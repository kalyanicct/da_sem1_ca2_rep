{
 "cells": [
  {
   "cell_type": "code",
   "execution_count": 1,
   "id": "85e76867",
   "metadata": {},
   "outputs": [],
   "source": [
    "# Importing necessary libraries\n",
    "import pandas as pd\n",
    "import matplotlib.pyplot as plt\n",
    "import seaborn as sns\n",
    "import numpy as np\n",
    "import warnings\n",
    "warnings.filterwarnings('ignore')"
   ]
  },
  {
   "cell_type": "code",
   "execution_count": 2,
   "id": "69917055",
   "metadata": {},
   "outputs": [],
   "source": [
    "#Loading the datasets\n",
    "ir = pd.read_csv(\"C:/Users/ullas/Documents/Kalyani/da_sem1_ca1_rep/Datasets/ireland_public_transport.csv\")\n",
    "uk = pd.read_csv(\"C:/Users/ullas/Documents/Kalyani/da_sem1_ca1_rep/Datasets/uk_public_transport.csv\")"
   ]
  },
  {
   "cell_type": "code",
   "execution_count": null,
   "id": "1093aa51",
   "metadata": {},
   "outputs": [],
   "source": []
  }
 ],
 "metadata": {
  "kernelspec": {
   "display_name": "Python 3 (ipykernel)",
   "language": "python",
   "name": "python3"
  },
  "language_info": {
   "codemirror_mode": {
    "name": "ipython",
    "version": 3
   },
   "file_extension": ".py",
   "mimetype": "text/x-python",
   "name": "python",
   "nbconvert_exporter": "python",
   "pygments_lexer": "ipython3",
   "version": "3.10.9"
  }
 },
 "nbformat": 4,
 "nbformat_minor": 5
}
